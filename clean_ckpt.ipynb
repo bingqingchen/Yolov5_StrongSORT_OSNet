{
 "cells": [
  {
   "cell_type": "markdown",
   "metadata": {},
   "source": [
    "#### Process Model Checkpoint before passing to FeatureExtractor"
   ]
  },
  {
   "cell_type": "code",
   "execution_count": 1,
   "metadata": {},
   "outputs": [
    {
     "name": "stderr",
     "output_type": "stream",
     "text": [
      "/scratch/bingqing/miniconda3/envs/tracking/lib/python3.9/site-packages/tqdm/auto.py:22: TqdmWarning: IProgress not found. Please update jupyter and ipywidgets. See https://ipywidgets.readthedocs.io/en/stable/user_install.html\n",
      "  from .autonotebook import tqdm as notebook_tqdm\n"
     ]
    }
   ],
   "source": [
    "import torch\n",
    "from typing import OrderedDict"
   ]
  },
  {
   "cell_type": "markdown",
   "metadata": {},
   "source": [
    "##### Filter out params for Student."
   ]
  },
  {
   "cell_type": "code",
   "execution_count": 2,
   "metadata": {},
   "outputs": [],
   "source": [
    "ckpt = torch.load('weights/osnet_x0_25_distilled.ckpt')\n",
    "model_dict = ckpt['state_dict']\n",
    "student_dict = {}\n",
    "\n",
    "for k, v in model_dict.items():\n",
    "    if k.split('.')[0] == 'student':\n",
    "        new_key = '.'.join( k.split('.')[1:])\n",
    "        student_dict[new_key] = v\n",
    "\n",
    "torch.save(OrderedDict(student_dict), 'weights/osnet_x0_25_distilled.pt')"
   ]
  }
 ],
 "metadata": {
  "kernelspec": {
   "display_name": "Python 3.9.13 ('tracking')",
   "language": "python",
   "name": "python3"
  },
  "language_info": {
   "codemirror_mode": {
    "name": "ipython",
    "version": 3
   },
   "file_extension": ".py",
   "mimetype": "text/x-python",
   "name": "python",
   "nbconvert_exporter": "python",
   "pygments_lexer": "ipython3",
   "version": "3.9.13"
  },
  "orig_nbformat": 4,
  "vscode": {
   "interpreter": {
    "hash": "afff8da4c2f9d8b8e4976fc3e9ba1c6814434dd244c0dd59a0f03f0d40929c48"
   }
  }
 },
 "nbformat": 4,
 "nbformat_minor": 2
}
